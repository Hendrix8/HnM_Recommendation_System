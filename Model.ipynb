{
  "nbformat": 4,
  "nbformat_minor": 0,
  "metadata": {
    "colab": {
      "provenance": [],
      "machine_shape": "hm",
      "gpuType": "A100"
    },
    "kernelspec": {
      "name": "python3",
      "display_name": "Python 3"
    },
    "language_info": {
      "name": "python"
    }
  },
  "cells": [
    {
      "cell_type": "markdown",
      "source": [
        "## Contents\n",
        "* [Load Sets](#load_sets)\n",
        "* [Factorizing data and creating probability vectors](#FD)\n",
        "* [Getting the Features and the targets for each set](#GF)\n",
        "* [Normalizing Data](#ND)\n",
        "* [Class Balance](#CB)\n",
        "* [Model](#Model)\n",
        "* [Submission File](#Submission_File)"
      ],
      "metadata": {
        "id": "AzW1jDtQnZbL"
      }
    },
    {
      "cell_type": "markdown",
      "source": [
        "<a id=\"load_sets\"></a>\n",
        "## Load Sets"
      ],
      "metadata": {
        "id": "QfJxlQ28nZbO"
      }
    },
    {
      "cell_type": "code",
      "source": [
        "# mounting the drive\n",
        "from google.colab import drive\n",
        "drive.mount('/content/drive')"
      ],
      "metadata": {
        "colab": {
          "base_uri": "https://localhost:8080/"
        },
        "id": "SGLw-VlVr0c5",
        "outputId": "6fb01279-dccb-4a62-ac16-91ef7169bf7f"
      },
      "execution_count": 1,
      "outputs": [
        {
          "output_type": "stream",
          "name": "stdout",
          "text": [
            "Mounted at /content/drive\n"
          ]
        }
      ]
    },
    {
      "cell_type": "code",
      "source": [
        "import pandas as pd\n",
        "\n",
        "# loading the datasets with pandas\n",
        "train = pd.read_pickle('/content/drive/MyDrive/Data/H&M_project/train.pkl', compression='gzip')\n",
        "val = pd.read_pickle('/content/drive/MyDrive/Data/H&M_project/val.pkl', compression='gzip')\n",
        "test = pd.read_pickle('/content/drive/MyDrive/Data/H&M_project/test.pkl', compression='gzip')\n",
        "train_all = pd.read_pickle('/content/drive/MyDrive/Data/H&M_project/train_all.pkl', compression='gzip')\n"
      ],
      "metadata": {
        "execution": {
          "iopub.status.busy": "2023-05-25T16:02:09.853973Z",
          "iopub.execute_input": "2023-05-25T16:02:09.854772Z",
          "iopub.status.idle": "2023-05-25T16:03:37.111003Z",
          "shell.execute_reply.started": "2023-05-25T16:02:09.854720Z",
          "shell.execute_reply": "2023-05-25T16:03:37.109902Z"
        },
        "trusted": true,
        "id": "ynekgM9_nZbQ"
      },
      "execution_count": 2,
      "outputs": []
    },
    {
      "cell_type": "markdown",
      "source": [
        "<a id=\"FD\"></a>\n",
        "\n",
        "## Factorizing data and creating probability vectors"
      ],
      "metadata": {
        "id": "xbIB9y7cyHyS"
      }
    },
    {
      "cell_type": "code",
      "source": [
        "import numpy as np\n",
        "# preprocessing the created data\n",
        "def process_data(data):\n",
        "\n",
        "  # gettig the mean price of the items that every customer bought\n",
        "  data['mean_price'] = data['price'].apply(lambda x: np.mean(x))\n",
        "\n",
        "  # dropping unesessary columns\n",
        "  data = data.drop(['sales_channel_id', 'price', 'article_id'], axis=1)\n",
        "\n",
        "  # factorizing all categorical columns\n",
        "  data_processed = data.copy()\n",
        "  data_processed['club_member_status'] = pd.factorize(data_processed['club_member_status'])[0]\n",
        "  data_processed['fashion_news_frequency'] = pd.factorize(data_processed['fashion_news_frequency'])[0]\n",
        "  data_processed['postal_code'] = pd.factorize(data_processed['postal_code'])[0]\n",
        "\n",
        "  return data_processed\n",
        "\n",
        "\n",
        "train_processed = process_data(train)\n",
        "val_processed = process_data(val)\n",
        "test_processed = process_data(test)\n",
        "train_all = process_data(train_all)"
      ],
      "metadata": {
        "id": "D_5M02xa-Dh8"
      },
      "execution_count": 3,
      "outputs": []
    },
    {
      "cell_type": "code",
      "source": [
        "from collections import Counter\n",
        "\n",
        "# Creating class for each customer by getting the cluster from which they have\n",
        "# bought the most times\n",
        "def create_prob_vecs(data, cluster_count):\n",
        "    classes = []\n",
        "\n",
        "    for item_classes in data['item_class'].to_list():\n",
        "\n",
        "        # if customer has a history then create a prob vector\n",
        "        if isinstance(item_classes, list):\n",
        "            customer_history = dict(Counter(item_classes))\n",
        "            prob_vector = np.zeros(cluster_count)\n",
        "\n",
        "            cluster_indices = list(customer_history.keys())\n",
        "            cluster_counts = np.array(list(customer_history.values()))\n",
        "\n",
        "            prob_vector[cluster_indices] = cluster_counts\n",
        "            prob_vector /= len(customer_history)\n",
        "\n",
        "            classes.append(np.argmax(prob_vector))\n",
        "\n",
        "        # if customer has not bought anything then assign a zero prob vector\n",
        "        # this assigns a class of zero (which does not correspond to a cluster)\n",
        "        else:\n",
        "            prob_vector = np.zeros(cluster_count)\n",
        "            classes.append(np.argmax(prob_vector))\n",
        "\n",
        "    return classes\n",
        "\n",
        "cluster_count = 304\n",
        "train_processed['class'] = create_prob_vecs(train_processed, cluster_count)\n",
        "val_processed['class'] = create_prob_vecs(val_processed, cluster_count)\n",
        "test_processed['class'] = create_prob_vecs(test_processed, cluster_count)\n",
        "train_all['class'] = create_prob_vecs(train_all, cluster_count)"
      ],
      "metadata": {
        "id": "JfcdSHJagqGD"
      },
      "execution_count": 4,
      "outputs": []
    },
    {
      "cell_type": "markdown",
      "source": [
        "<a id=\"GF\"></a>\n",
        "## Getting the Features and the targets for each set"
      ],
      "metadata": {
        "id": "hIfhJ4eZUr9M"
      }
    },
    {
      "cell_type": "code",
      "source": [
        "X_train = train_processed[['club_member_status', 'fashion_news_frequency', 'age', 'postal_code', 'mean_price']].to_numpy()\n",
        "y_train = train_processed['class'].to_numpy()\n",
        "\n",
        "X_val = val_processed[['club_member_status', 'fashion_news_frequency', 'age', 'postal_code', 'mean_price']].to_numpy()\n",
        "y_val = val_processed['class'].to_numpy()\n",
        "\n",
        "X_test = test_processed[['club_member_status', 'fashion_news_frequency', 'age', 'postal_code', 'mean_price']].to_numpy()\n",
        "y_test = test_processed['class'].to_numpy()\n",
        "\n",
        "\n",
        "# setting the mean prices of nan with 0\n",
        "train_all['mean_price'] = train_all['mean_price'].fillna(0)\n",
        "\n",
        "X = train_all[['club_member_status', 'fashion_news_frequency', 'age', 'postal_code', 'mean_price']].to_numpy()\n",
        "y = train_all['class'].to_numpy()\n"
      ],
      "metadata": {
        "id": "YT2aA8YmRYro"
      },
      "execution_count": 5,
      "outputs": []
    },
    {
      "cell_type": "code",
      "source": [
        "# printing the shapes\n",
        "print(X_train.shape, y_train.shape)\n",
        "print(X_val.shape, y_val.shape)\n",
        "print(X_test.shape, y_test.shape)\n"
      ],
      "metadata": {
        "colab": {
          "base_uri": "https://localhost:8080/"
        },
        "id": "hzRwsfadUzLG",
        "outputId": "beb69279-78e0-435f-d80a-ebcad9a5bc02"
      },
      "execution_count": 6,
      "outputs": [
        {
          "output_type": "stream",
          "name": "stdout",
          "text": [
            "(1333465, 5) (1333465,)\n",
            "(249511, 5) (249511,)\n",
            "(75481, 5) (75481,)\n"
          ]
        }
      ]
    },
    {
      "cell_type": "markdown",
      "source": [
        "<a id=\"ND\"></a>\n",
        "## Normalizing Data"
      ],
      "metadata": {
        "id": "_Pk4jx1oX3rg"
      }
    },
    {
      "cell_type": "code",
      "source": [
        "from sklearn.preprocessing import MinMaxScaler\n",
        "\n",
        "# Creating an instance of MinMaxScaler\n",
        "scaler = MinMaxScaler()\n",
        "\n",
        "# Fitting the scaler to the training data\n",
        "scaler.fit(X_train)\n",
        "\n",
        "# Normalizing the data\n",
        "\n",
        "X_train_norm = scaler.transform(X_train)\n",
        "X_val_norm = scaler.transform(X_val)\n",
        "X_test_norm = scaler.transform(X_test)\n",
        "\n",
        "all_data_scaler = MinMaxScaler()\n",
        "X = all_data_scaler.fit_transform(X)"
      ],
      "metadata": {
        "id": "FhQWh-G5X6P8"
      },
      "execution_count": 7,
      "outputs": []
    },
    {
      "cell_type": "markdown",
      "source": [
        "<a id=\"CB\"></a>\n",
        "\n",
        "## Class Balance"
      ],
      "metadata": {
        "id": "_ntKbsc7PLqJ"
      }
    },
    {
      "cell_type": "code",
      "source": [
        "import numpy as np\n",
        "import matplotlib.pyplot as plt\n",
        "\n",
        "def class_balance(y, set_type):\n",
        "  # Counting the occurrences of each class\n",
        "  class_counts = np.bincount(y)\n",
        "\n",
        "  # Creating x-axis values (class numbers)\n",
        "  class_numbers = np.arange(len(class_counts))\n",
        "\n",
        "  # Creating a bar plot\n",
        "  plt.bar(class_numbers, class_counts)\n",
        "  plt.xlabel('Class Number')\n",
        "  plt.ylabel('Count')\n",
        "  plt.title(f'Class Balance in {set_type}')\n",
        "  plt.savefig(f'balance_{set_type}.png', bbox_inches='tight')\n",
        "  plt.show()\n",
        "\n",
        "\n",
        "class_balance(y_train, 'Train Set')\n",
        "class_balance(y_val, 'Validation Set')\n",
        "class_balance(y_test, 'Test set')\n",
        "class_balance(y, 'All Data')\n"
      ],
      "metadata": {
        "colab": {
          "base_uri": "https://localhost:8080/",
          "height": 1000
        },
        "id": "ww1hItvvQph8",
        "outputId": "319bf5e1-6392-4328-d862-7df964545ed8"
      },
      "execution_count": 8,
      "outputs": [
        {
          "output_type": "display_data",
          "data": {
            "text/plain": [
              "<Figure size 640x480 with 1 Axes>"
            ],
            "image/png": "[encoded data removed]"
          },
          "metadata": {}
        },
        {
          "output_type": "display_data",
          "data": {
            "text/plain": [
              "<Figure size 640x480 with 1 Axes>"
            ],
            "image/png": "[encoded data removed]"
          },
          "metadata": {}
        },
        {
          "output_type": "display_data",
          "data": {
            "text/plain": [
              "<Figure size 640x480 with 1 Axes>"
            ],
            "image/png": "[encoded data removed]"
          },
          "metadata": {}
        },
        {
          "output_type": "display_data",
          "data": {
            "text/plain": [
              "<Figure size 640x480 with 1 Axes>"
            ],
            "image/png": "[encoded data removed]"
          },
          "metadata": {}
        }
      ]
    },
    {
      "cell_type": "markdown",
      "source": [
        "It seems that some classes do not have a high probability of occuring, therefore we can drop the samples that classify to those classes, try to balance the dataset and then train the model on it ( this has to happen only on the training set )"
      ],
      "metadata": {
        "id": "UaaOcV-ATDbi"
      }
    },
    {
      "cell_type": "code",
      "source": [
        "def cut_y(y_train):\n",
        "  # Counting the occurrences of each class\n",
        "  class_counts = pd.DataFrame(y_train)[0].value_counts()\n",
        "\n",
        "  # getting the classes that occur more than 10000 times\n",
        "  new_classes = [i for i in pd.DataFrame(class_counts[class_counts > 10000].index)[0].unique()]\n",
        "\n",
        "  # filtering y_train\n",
        "  y_train = pd.DataFrame(y_train)\n",
        "  y_train_new_df = y_train[y_train[0].isin(new_classes)]\n",
        "  y_train_new = y_train_new_df[0].to_numpy()\n",
        "\n",
        "  return y_train_new, y_train_new_df\n",
        "\n",
        "y_train_new, y_train_new_df = cut_y(y_train)\n",
        "\n",
        "# doing the same for y\n",
        "y_new, y_new_df = cut_y(y)"
      ],
      "metadata": {
        "id": "QJIxU9AAZ52K"
      },
      "execution_count": 9,
      "outputs": []
    },
    {
      "cell_type": "code",
      "source": [
        "class_balance(y_train_new, 'Train Set (classes occurence >= 10000)')"
      ],
      "metadata": {
        "colab": {
          "base_uri": "https://localhost:8080/",
          "height": 472
        },
        "id": "vpyC2IDPUgRW",
        "outputId": "c1a2dabf-3f3c-4480-9fd7-ef5999bec301"
      },
      "execution_count": 10,
      "outputs": [
        {
          "output_type": "display_data",
          "data": {
            "text/plain": [
              "<Figure size 640x480 with 1 Axes>"
            ],
            "image/png": "[encoded data removed]"
          },
          "metadata": {}
        }
      ]
    },
    {
      "cell_type": "code",
      "source": [
        "# filtering the same samples from X\n",
        "def cut_X(X_train, y_train_new_df):\n",
        "  X_train_df = pd.DataFrame(X_train)\n",
        "  X_train_df = X_train_df[X_train_df.index.isin(y_train_new_df.index)]\n",
        "\n",
        "  X_train_norm_new = X_train_df.to_numpy()\n",
        "\n",
        "  return X_train_norm_new\n",
        "\n",
        "X_train_norm_new = cut_X(X_train, y_train_new_df)\n",
        "\n",
        "X_new = cut_X(X, y_new_df)"
      ],
      "metadata": {
        "id": "fNenAc4fbthc"
      },
      "execution_count": 11,
      "outputs": []
    },
    {
      "cell_type": "code",
      "source": [
        "X_train_norm_new.shape, y_train_new.shape"
      ],
      "metadata": {
        "colab": {
          "base_uri": "https://localhost:8080/"
        },
        "id": "GHiAT8PqY4xk",
        "outputId": "80486bde-b4cf-41d2-8508-c3e93aa1cfc3"
      },
      "execution_count": 12,
      "outputs": [
        {
          "output_type": "execute_result",
          "data": {
            "text/plain": [
              "((1101678, 5), (1101678,))"
            ]
          },
          "metadata": {},
          "execution_count": 12
        }
      ]
    },
    {
      "cell_type": "code",
      "source": [
        "X_new.shape, y_new.shape"
      ],
      "metadata": {
        "colab": {
          "base_uri": "https://localhost:8080/"
        },
        "id": "ktstow6HWaL9",
        "outputId": "ddd148d5-f1b9-4c10-83e8-8692214fbb5f"
      },
      "execution_count": 13,
      "outputs": [
        {
          "output_type": "execute_result",
          "data": {
            "text/plain": [
              "((1134326, 5), (1134326,))"
            ]
          },
          "metadata": {},
          "execution_count": 13
        }
      ]
    },
    {
      "cell_type": "code",
      "source": [
        "from imblearn.over_sampling import SMOTE\n",
        "\n",
        "# Instantiating SMOTE\n",
        "smote = SMOTE(k_neighbors=2)\n",
        "\n",
        "# Performing SMOTE oversampling\n",
        "X_train_resampled, y_train_resampled = smote.fit_resample(X_train_norm_new, y_train_new)\n",
        "X_resampled, y_resampled = smote.fit_resample(X_new, y_new)\n"
      ],
      "metadata": {
        "id": "EEtqYN8pRGUg"
      },
      "execution_count": 14,
      "outputs": []
    },
    {
      "cell_type": "code",
      "source": [
        "class_balance(y_train_resampled, 'Train Set(Resampled)')"
      ],
      "metadata": {
        "colab": {
          "base_uri": "https://localhost:8080/",
          "height": 472
        },
        "id": "11saT9njRUEr",
        "outputId": "31afbe56-d7a0-4a73-c774-e31a60dbd64f"
      },
      "execution_count": 15,
      "outputs": [
        {
          "output_type": "display_data",
          "data": {
            "text/plain": [
              "<Figure size 640x480 with 1 Axes>"
            ],
            "image/png": "[encoded data removed]"
          },
          "metadata": {}
        }
      ]
    },
    {
      "cell_type": "markdown",
      "source": [
        "SMOTE created too many examples. Getting less examples but keeping the balance is good idea for not consuming all the ram"
      ],
      "metadata": {
        "id": "JTZAz5G7hlzU"
      }
    },
    {
      "cell_type": "code",
      "source": [
        "X_train_resampled.shape, y_train_resampled.shape"
      ],
      "metadata": {
        "colab": {
          "base_uri": "https://localhost:8080/"
        },
        "id": "UbDpeyVuTqZS",
        "outputId": "36d676b2-1f9c-4801-8881-9f1133a45bd2"
      },
      "execution_count": 16,
      "outputs": [
        {
          "output_type": "execute_result",
          "data": {
            "text/plain": [
              "((3848526, 5), (3848526,))"
            ]
          },
          "metadata": {},
          "execution_count": 16
        }
      ]
    },
    {
      "cell_type": "code",
      "source": [
        "X_resampled.shape, y_resampled.shape"
      ],
      "metadata": {
        "colab": {
          "base_uri": "https://localhost:8080/"
        },
        "id": "UQ9xoo0_XaNU",
        "outputId": "d58b8fbe-dd8e-4d39-f332-ec557f67c2a9"
      },
      "execution_count": 17,
      "outputs": [
        {
          "output_type": "execute_result",
          "data": {
            "text/plain": [
              "((3854943, 5), (3854943,))"
            ]
          },
          "metadata": {},
          "execution_count": 17
        }
      ]
    },
    {
      "cell_type": "code",
      "source": [
        "from sklearn.model_selection import train_test_split\n",
        "\n",
        "# Split the dataset into train and test sets, maintaining class balance\n",
        "X_train_sample, _, y_train_sample, _ = train_test_split(\n",
        "    X_train_resampled, y_train_resampled, test_size=0.995, stratify=y_train_resampled\n",
        ")\n",
        "\n",
        "X_train_sample.shape, y_train_sample.shape"
      ],
      "metadata": {
        "colab": {
          "base_uri": "https://localhost:8080/"
        },
        "id": "_uiH9Vjphksl",
        "outputId": "939c526f-f725-4555-85f2-10e309fab2ad"
      },
      "execution_count": 18,
      "outputs": [
        {
          "output_type": "execute_result",
          "data": {
            "text/plain": [
              "((19242, 5), (19242,))"
            ]
          },
          "metadata": {},
          "execution_count": 18
        }
      ]
    },
    {
      "cell_type": "code",
      "source": [
        "X_sample, _, y_sample, _ = train_test_split(\n",
        "    X_resampled, y_resampled, test_size=0.7, stratify=y_resampled\n",
        ")\n",
        "\n",
        "X_sample.shape, y_sample.shape"
      ],
      "metadata": {
        "colab": {
          "base_uri": "https://localhost:8080/"
        },
        "id": "6ZcEDTmNXgC-",
        "outputId": "8454d67f-8c6f-425d-dffa-53d59fa1ac62"
      },
      "execution_count": 19,
      "outputs": [
        {
          "output_type": "execute_result",
          "data": {
            "text/plain": [
              "((1156482, 5), (1156482,))"
            ]
          },
          "metadata": {},
          "execution_count": 19
        }
      ]
    },
    {
      "cell_type": "code",
      "source": [
        "class_balance(y_train_sample, 'Train Set(Sample)')"
      ],
      "metadata": {
        "colab": {
          "base_uri": "https://localhost:8080/",
          "height": 472
        },
        "id": "8ej_bR0HiHlV",
        "outputId": "f6e2ba9c-6315-427e-f244-5640f24a5201"
      },
      "execution_count": 20,
      "outputs": [
        {
          "output_type": "display_data",
          "data": {
            "text/plain": [
              "<Figure size 640x480 with 1 Axes>"
            ],
            "image/png": "[encoded data removed]"
          },
          "metadata": {}
        }
      ]
    },
    {
      "cell_type": "markdown",
      "source": [
        "<a id=\"Model\"></a>\n",
        "## Model"
      ],
      "metadata": {
        "id": "1tdsYrxZrCAx"
      }
    },
    {
      "cell_type": "markdown",
      "source": [
        "### Creating and Training the model"
      ],
      "metadata": {
        "id": "BNLJdgsI4o6D"
      }
    },
    {
      "cell_type": "markdown",
      "source": [
        "#### Balanced Classes"
      ],
      "metadata": {
        "id": "bi7hGrOXaDIL"
      }
    },
    {
      "cell_type": "code",
      "source": [
        "from sklearn.tree import DecisionTreeClassifier\n",
        "from sklearn.neighbors import KNeighborsClassifier\n",
        "from sklearn.linear_model import LogisticRegression\n",
        "from lightgbm import LGBMClassifier\n",
        "from sklearn.discriminant_analysis import LinearDiscriminantAnalysis\n",
        "from sklearn.model_selection import cross_val_score\n",
        "import time\n",
        "from tqdm import tqdm\n",
        "\n",
        "classifiers = [\n",
        "    KNeighborsClassifier(),\n",
        "    DecisionTreeClassifier(),\n",
        "    LogisticRegression(),\n",
        "    LGBMClassifier(),\n",
        "    LinearDiscriminantAnalysis(),\n",
        "]\n",
        "\n",
        "\n",
        "k = 5  # Number of folds for cross-validation\n",
        "\n",
        "for classifier in classifiers:\n",
        "    scores = cross_val_score(classifier, X_train_sample, y_train_sample, cv=k, scoring='accuracy')\n",
        "    avg_score = scores.mean()\n",
        "\n",
        "    print(f\"Classifier: {classifier.__class__.__name__}\")\n",
        "    print(f\"Cross-validated accuracy: {avg_score:.4f}\")\n",
        "\n",
        "\n",
        "    # Start the timer\n",
        "    start_time = time.time()\n",
        "\n",
        "    # Train the classifier on the training set\n",
        "    classifier.fit(X_train_sample, y_train_sample)\n",
        "\n",
        "    # Calculate the training time\n",
        "    training_time = time.time() - start_time\n",
        "\n",
        "    # Evaluate on the validation set\n",
        "    val_score = classifier.score(X_val, y_val)\n",
        "    print(f\"Validation accuracy: {val_score:.4f}\")\n",
        "    print(f'Training Time: {training_time}')\n",
        "    print()\n"
      ],
      "metadata": {
        "colab": {
          "base_uri": "https://localhost:8080/"
        },
        "id": "7_iZcpR59lQi",
        "outputId": "5968bb6d-64b7-4bf1-b855-66cfb045188f"
      },
      "execution_count": 22,
      "outputs": [
        {
          "output_type": "stream",
          "name": "stdout",
          "text": [
            "Classifier: KNeighborsClassifier\n",
            "Cross-validated accuracy: 0.0391\n",
            "Validation accuracy: 0.0329\n",
            "Training Time: 0.01380014419555664\n",
            "\n",
            "Classifier: DecisionTreeClassifier\n",
            "Cross-validated accuracy: 0.0519\n",
            "Validation accuracy: 0.0382\n",
            "Training Time: 0.17467498779296875\n",
            "\n",
            "Classifier: LogisticRegression\n",
            "Cross-validated accuracy: 0.0323\n",
            "Validation accuracy: 0.0608\n",
            "Training Time: 0.13886761665344238\n",
            "\n",
            "Classifier: LGBMClassifier\n",
            "Cross-validated accuracy: 0.0719\n",
            "Validation accuracy: 0.0591\n",
            "Training Time: 4.124648332595825\n",
            "\n",
            "Classifier: LinearDiscriminantAnalysis\n",
            "Cross-validated accuracy: 0.0598\n",
            "Validation accuracy: 0.0324\n",
            "Training Time: 0.02498030662536621\n",
            "\n"
          ]
        }
      ]
    },
    {
      "cell_type": "markdown",
      "source": [
        "#### Original Balance in Classes"
      ],
      "metadata": {
        "id": "wjJaehG4aIDn"
      }
    },
    {
      "cell_type": "code",
      "source": [
        "# sampling the dataset due to the volume of the data\n",
        "X_train_sample, _, y_train_sample, _ = train_test_split(\n",
        "    X_train_norm_new, y_train_new, test_size=0.98, stratify=y_train_new\n",
        ")\n",
        "\n",
        "X_train_sample.shape, y_train_sample.shape"
      ],
      "metadata": {
        "colab": {
          "base_uri": "https://localhost:8080/"
        },
        "id": "5SNXfi5cOQ_n",
        "outputId": "6fa2abba-0687-4390-c8a8-b1b1998c0c3a"
      },
      "execution_count": 23,
      "outputs": [
        {
          "output_type": "execute_result",
          "data": {
            "text/plain": [
              "((22033, 5), (22033,))"
            ]
          },
          "metadata": {},
          "execution_count": 23
        }
      ]
    },
    {
      "cell_type": "code",
      "source": [
        "\n",
        "classifiers = [\n",
        "    KNeighborsClassifier(),\n",
        "    DecisionTreeClassifier(),\n",
        "    LogisticRegression(),\n",
        "    LGBMClassifier(),\n",
        "    LinearDiscriminantAnalysis(),\n",
        "]\n",
        "\n",
        "\n",
        "k = 5  # Number of folds for cross-validation\n",
        "\n",
        "for classifier in classifiers:\n",
        "    scores = cross_val_score(classifier, X_train_sample, y_train_sample, cv=k, scoring='accuracy')\n",
        "    avg_score = scores.mean()\n",
        "\n",
        "    print(f\"Classifier: {classifier.__class__.__name__}\")\n",
        "    print(f\"Cross-validated accuracy: {avg_score:.4f}\")\n",
        "\n",
        "    # Start the timer\n",
        "    start_time = time.time()\n",
        "\n",
        "    # Train the classifier on the training set\n",
        "    classifier.fit(X_train_sample, y_train_sample)\n",
        "\n",
        "    # Calculate the training time\n",
        "    training_time = time.time() - start_time\n",
        "\n",
        "   # Evaluate on the validation set\n",
        "    val_score = classifier.score(X_val, y_val)\n",
        "    print(f\"Validation accuracy: {val_score:.4f}\")\n",
        "    print(f'Training Time: {training_time}')\n",
        "    print()\n"
      ],
      "metadata": {
        "colab": {
          "base_uri": "https://localhost:8080/"
        },
        "id": "SFd1OXm8eHqH",
        "outputId": "4fb1e70e-277d-4c1b-96a2-6195344092af"
      },
      "execution_count": 24,
      "outputs": [
        {
          "output_type": "stream",
          "name": "stdout",
          "text": [
            "Classifier: KNeighborsClassifier\n",
            "Cross-validated accuracy: 0.0845\n",
            "Validation accuracy: 0.0414\n",
            "Training Time: 0.016176700592041016\n",
            "\n",
            "Classifier: DecisionTreeClassifier\n",
            "Cross-validated accuracy: 0.0709\n",
            "Validation accuracy: 0.0452\n",
            "Training Time: 0.13652968406677246\n",
            "\n",
            "Classifier: LogisticRegression\n",
            "Cross-validated accuracy: 0.1126\n",
            "Validation accuracy: 0.0581\n",
            "Training Time: 1.2924304008483887\n",
            "\n",
            "Classifier: LGBMClassifier\n",
            "Cross-validated accuracy: 0.1220\n",
            "Validation accuracy: 0.0754\n",
            "Training Time: 5.788863182067871\n",
            "\n",
            "Classifier: LinearDiscriminantAnalysis\n",
            "Cross-validated accuracy: 0.1396\n",
            "Validation accuracy: 0.0738\n",
            "Training Time: 0.02567148208618164\n",
            "\n"
          ]
        }
      ]
    },
    {
      "cell_type": "code",
      "source": [
        "from sklearn.metrics import classification_report\n",
        "\n",
        "# Creating a LGBM classifier object\n",
        "lgbm = LGBMClassifier()\n",
        "\n",
        "# Start the timer\n",
        "start_time = time.time()\n",
        "\n",
        "# Training the classifier on the training data\n",
        "lgbm.fit(X_train_norm_new, y_train_new)\n",
        "\n",
        "# Calculate the training time\n",
        "training_time = time.time() - start_time\n",
        "\n",
        "# Making predictions on the test data\n",
        "y_pred = lgbm.predict(X_test)\n",
        "\n",
        "# Evaluating the classifier\n",
        "report = classification_report(y_test, y_pred)\n",
        "print(report)\n",
        "print(f'Training Time: {training_time}')\n",
        "print()\n"
      ],
      "metadata": {
        "id": "Tt3FbvHx9BUD",
        "colab": {
          "base_uri": "https://localhost:8080/"
        },
        "outputId": "5e806a62-3f4c-4fb8-e486-0ad4b7464fb3"
      },
      "execution_count": 27,
      "outputs": [
        {
          "output_type": "stream",
          "name": "stdout",
          "text": [
            "              precision    recall  f1-score   support\n",
            "\n",
            "           0       0.06      0.05      0.06      2518\n",
            "           1       0.04      0.12      0.06      2407\n",
            "           2       0.05      0.00      0.00      2341\n",
            "           3       0.05      0.41      0.09      2131\n",
            "           4       0.15      0.51      0.23      6056\n",
            "           5       0.09      0.05      0.06      2309\n",
            "           6       0.00      0.00      0.00       352\n",
            "           7       0.00      0.00      0.00      3129\n",
            "           8       0.00      0.00      0.00      2812\n",
            "           9       0.00      0.00      0.00       915\n",
            "          10       0.06      0.00      0.00      1487\n",
            "          11       0.00      0.00      0.00        58\n",
            "          12       0.13      0.13      0.13      1483\n",
            "          13       0.00      0.00      0.00       316\n",
            "          14       0.10      0.00      0.01      1025\n",
            "          15       0.05      0.00      0.01      1436\n",
            "          16       0.10      0.52      0.17      4514\n",
            "          17       0.00      0.00      0.00      2699\n",
            "          18       0.12      0.01      0.02       926\n",
            "          19       0.17      0.08      0.11      1453\n",
            "          20       0.00      0.00      0.00      1506\n",
            "          21       0.00      0.00      0.00       506\n",
            "          22       0.00      0.00      0.00      1051\n",
            "          23       0.00      0.00      0.00      1476\n",
            "          24       0.00      0.00      0.00       517\n",
            "          25       0.15      0.00      0.01      2135\n",
            "          26       0.00      0.00      0.00       385\n",
            "          27       0.00      0.00      0.00       317\n",
            "          28       0.00      0.00      0.00        18\n",
            "          29       0.12      0.00      0.00      2177\n",
            "          30       0.00      0.00      0.00       105\n",
            "          31       0.00      0.00      0.00      1523\n",
            "          32       0.00      0.00      0.00       611\n",
            "          33       0.00      0.00      0.00       117\n",
            "          34       0.00      0.00      0.00       401\n",
            "          35       0.00      0.00      0.00       182\n",
            "          36       0.00      0.00      0.00         1\n",
            "          37       0.00      0.00      0.00       217\n",
            "          38       0.00      0.00      0.00         5\n",
            "          39       0.00      0.00      0.00      1220\n",
            "          40       0.00      0.00      0.00       149\n",
            "          41       0.00      0.00      0.00       331\n",
            "          42       0.00      0.00      0.00         5\n",
            "          43       0.00      0.00      0.00       754\n",
            "          44       0.00      0.00      0.00       469\n",
            "          45       0.03      0.00      0.01       336\n",
            "          46       0.00      0.00      0.00      4319\n",
            "          47       0.00      0.00      0.00       336\n",
            "          48       0.00      0.00      0.00       548\n",
            "          49       0.00      0.00      0.00       377\n",
            "          50       0.00      0.00      0.00       614\n",
            "          51       0.00      0.00      0.00       103\n",
            "          52       0.00      0.00      0.00       268\n",
            "          53       0.00      0.00      0.00       481\n",
            "          54       0.00      0.00      0.00       699\n",
            "          55       0.00      0.00      0.00        55\n",
            "          56       0.00      0.00      0.00        73\n",
            "          57       0.00      0.00      0.00       361\n",
            "          58       0.00      0.00      0.00       293\n",
            "          59       0.00      0.00      0.00       118\n",
            "          60       0.00      0.00      0.00         4\n",
            "          61       0.00      0.00      0.00       114\n",
            "          62       0.00      0.00      0.00       127\n",
            "          63       0.04      0.01      0.02       742\n",
            "          64       0.00      0.00      0.00         3\n",
            "          65       0.03      0.01      0.01       488\n",
            "          66       0.00      0.00      0.00       205\n",
            "          67       0.00      0.00      0.00       201\n",
            "          68       0.03      0.00      0.00       988\n",
            "          69       0.00      0.00      0.00       224\n",
            "          70       0.00      0.00      0.00        95\n",
            "          71       0.00      0.00      0.00       415\n",
            "          72       0.00      0.00      0.00       132\n",
            "          73       0.00      0.00      0.00       197\n",
            "          74       0.00      0.00      0.00       290\n",
            "          75       0.00      0.00      0.00        41\n",
            "          76       0.00      0.00      0.00       135\n",
            "          77       0.00      0.00      0.00        10\n",
            "          78       0.00      0.00      0.00        66\n",
            "          79       0.00      0.00      0.00       448\n",
            "          81       0.00      0.00      0.00       294\n",
            "          82       0.00      0.00      0.00       292\n",
            "          83       0.00      0.00      0.00        25\n",
            "          84       0.00      0.00      0.00       153\n",
            "          85       0.00      0.00      0.00       173\n",
            "          86       0.00      0.00      0.00       258\n",
            "          87       0.00      0.00      0.00       174\n",
            "          88       0.00      0.00      0.00        49\n",
            "          89       0.00      0.00      0.00        24\n",
            "          90       0.00      0.00      0.00        49\n",
            "          91       0.00      0.00      0.00        32\n",
            "          92       0.00      0.00      0.00        10\n",
            "          93       0.00      0.00      0.00        48\n",
            "          94       0.00      0.00      0.00        97\n",
            "          95       0.00      0.00      0.00        12\n",
            "          96       0.00      0.00      0.00        54\n",
            "          98       0.00      0.00      0.00       209\n",
            "          99       0.00      0.00      0.00       115\n",
            "         100       0.00      0.00      0.00        22\n",
            "         101       0.00      0.00      0.00         7\n",
            "         102       0.00      0.00      0.00        50\n",
            "         103       0.00      0.00      0.00       124\n",
            "         105       0.00      0.00      0.00       139\n",
            "         106       0.00      0.00      0.00         7\n",
            "         107       0.00      0.00      0.00        33\n",
            "         108       0.00      0.00      0.00        55\n",
            "         109       0.00      0.00      0.00       109\n",
            "         110       0.00      0.00      0.00        47\n",
            "         111       0.00      0.00      0.00       414\n",
            "         112       0.00      0.00      0.00        68\n",
            "         113       0.00      0.00      0.00         7\n",
            "         114       0.00      0.00      0.00       107\n",
            "         115       0.00      0.00      0.00       189\n",
            "         116       0.00      0.00      0.00        18\n",
            "         118       0.00      0.00      0.00         8\n",
            "         119       0.00      0.00      0.00        39\n",
            "         120       0.00      0.00      0.00        53\n",
            "         121       0.00      0.00      0.00        74\n",
            "         122       0.00      0.00      0.00         9\n",
            "         123       0.00      0.00      0.00         1\n",
            "         125       0.00      0.00      0.00        12\n",
            "         126       0.00      0.00      0.00        22\n",
            "         127       0.00      0.00      0.00        13\n",
            "         128       0.00      0.00      0.00        25\n",
            "         129       0.00      0.00      0.00         3\n",
            "         130       0.00      0.00      0.00        23\n",
            "         131       0.00      0.00      0.00        77\n",
            "         132       0.00      0.00      0.00         4\n",
            "         133       0.00      0.00      0.00        41\n",
            "         134       0.00      0.00      0.00       252\n",
            "         135       0.00      0.00      0.00         3\n",
            "         136       0.00      0.00      0.00       146\n",
            "         137       0.00      0.00      0.00         1\n",
            "         138       0.00      0.00      0.00         4\n",
            "         140       0.00      0.00      0.00         3\n",
            "         141       0.00      0.00      0.00        46\n",
            "         142       0.00      0.00      0.00         7\n",
            "         144       0.00      0.00      0.00         8\n",
            "         146       0.00      0.00      0.00        10\n",
            "         147       0.00      0.00      0.00         5\n",
            "         150       0.00      0.00      0.00         4\n",
            "         151       0.00      0.00      0.00         1\n",
            "         152       0.00      0.00      0.00         5\n",
            "         153       0.00      0.00      0.00         1\n",
            "         154       0.00      0.00      0.00         1\n",
            "         155       0.00      0.00      0.00         2\n",
            "         156       0.00      0.00      0.00         3\n",
            "         157       0.00      0.00      0.00         3\n",
            "         158       0.00      0.00      0.00         1\n",
            "         160       0.00      0.00      0.00         4\n",
            "         162       0.00      0.00      0.00        22\n",
            "         163       0.00      0.00      0.00         4\n",
            "         165       0.00      0.00      0.00         8\n",
            "         166       0.00      0.00      0.00        41\n",
            "         167       0.00      0.00      0.00         6\n",
            "         169       0.00      0.00      0.00        39\n",
            "         171       0.00      0.00      0.00        10\n",
            "         173       0.00      0.00      0.00         4\n",
            "         175       0.00      0.00      0.00         4\n",
            "         176       0.00      0.00      0.00         8\n",
            "         178       0.00      0.00      0.00        16\n",
            "         179       0.00      0.00      0.00         1\n",
            "         180       0.00      0.00      0.00         2\n",
            "         181       0.00      0.00      0.00         1\n",
            "         183       0.00      0.00      0.00         2\n",
            "         184       0.00      0.00      0.00         7\n",
            "         185       0.00      0.00      0.00         1\n",
            "         192       0.00      0.00      0.00        21\n",
            "         194       0.00      0.00      0.00         3\n",
            "         196       0.00      0.00      0.00         1\n",
            "         197       0.00      0.00      0.00         6\n",
            "         198       0.00      0.00      0.00        11\n",
            "         205       0.00      0.00      0.00         1\n",
            "         206       0.00      0.00      0.00         5\n",
            "         207       0.00      0.00      0.00        39\n",
            "         211       0.00      0.00      0.00        22\n",
            "         218       0.00      0.00      0.00         7\n",
            "         221       0.00      0.00      0.00        11\n",
            "         222       0.00      0.00      0.00         2\n",
            "         223       0.00      0.00      0.00         1\n",
            "         224       0.00      0.00      0.00         8\n",
            "         225       0.00      0.00      0.00       101\n",
            "         227       0.00      0.00      0.00         1\n",
            "         228       0.00      0.00      0.00         2\n",
            "         230       0.00      0.00      0.00         6\n",
            "         232       0.00      0.00      0.00         2\n",
            "         241       0.00      0.00      0.00       185\n",
            "         242       0.00      0.00      0.00         1\n",
            "         248       0.00      0.00      0.00         5\n",
            "         250       0.00      0.00      0.00         7\n",
            "         256       0.00      0.00      0.00         1\n",
            "         267       0.00      0.00      0.00         1\n",
            "         285       0.00      0.00      0.00         4\n",
            "         288       0.00      0.00      0.00         1\n",
            "         293       0.00      0.00      0.00         2\n",
            "         294       0.00      0.00      0.00        15\n",
            "         301       0.00      0.00      0.00         4\n",
            "\n",
            "    accuracy                           0.10     75481\n",
            "   macro avg       0.01      0.01      0.01     75481\n",
            "weighted avg       0.05      0.10      0.04     75481\n",
            "\n",
            "Training Time: 77.74613404273987\n",
            "\n"
          ]
        },
        {
          "output_type": "stream",
          "name": "stderr",
          "text": [
            "/usr/local/lib/python3.10/dist-packages/sklearn/metrics/_classification.py:1344: UndefinedMetricWarning: Precision and F-score are ill-defined and being set to 0.0 in labels with no predicted samples. Use `zero_division` parameter to control this behavior.\n",
            "  _warn_prf(average, modifier, msg_start, len(result))\n",
            "/usr/local/lib/python3.10/dist-packages/sklearn/metrics/_classification.py:1344: UndefinedMetricWarning: Precision and F-score are ill-defined and being set to 0.0 in labels with no predicted samples. Use `zero_division` parameter to control this behavior.\n",
            "  _warn_prf(average, modifier, msg_start, len(result))\n",
            "/usr/local/lib/python3.10/dist-packages/sklearn/metrics/_classification.py:1344: UndefinedMetricWarning: Precision and F-score are ill-defined and being set to 0.0 in labels with no predicted samples. Use `zero_division` parameter to control this behavior.\n",
            "  _warn_prf(average, modifier, msg_start, len(result))\n"
          ]
        }
      ]
    },
    {
      "cell_type": "code",
      "source": [
        "from sklearn.metrics import accuracy_score, precision_score, recall_score, f1_score\n",
        "\n",
        "# calculating the results of the metrics\n",
        "acc = accuracy_score(y_test, y_pred)\n",
        "f1 = f1_score(y_test, y_pred, average='weighted')\n",
        "recall = recall_score(y_test, y_pred, average='weighted')\n",
        "precision = precision_score(y_test, y_pred, average='weighted')\n",
        "\n",
        "print(f'Accuracy : {acc:.4f}')\n",
        "print(f'F1-Score : {f1:.4f}')\n",
        "print(f'Recall : {recall:.4f}')\n",
        "print(f'Precision : {precision:.4f}')"
      ],
      "metadata": {
        "colab": {
          "base_uri": "https://localhost:8080/"
        },
        "id": "tupBz7JZuYqn",
        "outputId": "b6030f70-449d-4b3a-cb96-aa47966910f4"
      },
      "execution_count": 28,
      "outputs": [
        {
          "output_type": "stream",
          "name": "stdout",
          "text": [
            "Accuracy : 0.0955\n",
            "F1-Score : 0.0425\n",
            "Recall : 0.0955\n",
            "Precision : 0.0466\n"
          ]
        },
        {
          "output_type": "stream",
          "name": "stderr",
          "text": [
            "/usr/local/lib/python3.10/dist-packages/sklearn/metrics/_classification.py:1344: UndefinedMetricWarning: Precision is ill-defined and being set to 0.0 in labels with no predicted samples. Use `zero_division` parameter to control this behavior.\n",
            "  _warn_prf(average, modifier, msg_start, len(result))\n"
          ]
        }
      ]
    },
    {
      "cell_type": "markdown",
      "source": [
        "#### Training on All The Data"
      ],
      "metadata": {
        "id": "t1F1A7PgHVXD"
      }
    },
    {
      "cell_type": "code",
      "source": [
        "\n",
        "# Creating a LGBM classifier object\n",
        "lgbm = LGBMClassifier()\n",
        "\n",
        "# Start the timer\n",
        "start_time = time.time()\n",
        "\n",
        "# Training the classifier on the training data\n",
        "lgbm.fit(X_new, y_new)\n",
        "\n",
        "# Calculate the training time\n",
        "training_time = time.time() - start_time\n",
        "\n",
        "print(f'Training Time: {training_time}')\n",
        "\n"
      ],
      "metadata": {
        "colab": {
          "base_uri": "https://localhost:8080/"
        },
        "id": "ytIl34eEHZfY",
        "outputId": "615eb3f9-228b-4c95-a95b-faa0c51706f9"
      },
      "execution_count": 31,
      "outputs": [
        {
          "output_type": "stream",
          "name": "stdout",
          "text": [
            "Training Time: 85.69933247566223\n"
          ]
        }
      ]
    },
    {
      "cell_type": "code",
      "source": [
        "y_pred = lgbm.predict(X) # making predictions on all the customers"
      ],
      "metadata": {
        "id": "o-jExdV3H7HX"
      },
      "execution_count": 34,
      "outputs": []
    },
    {
      "cell_type": "markdown",
      "source": [
        "<a id=\"Submission_File\"></a>\n",
        "## Submission File"
      ],
      "metadata": {
        "id": "i5DRL91pnZbo"
      }
    },
    {
      "cell_type": "code",
      "source": [
        "import random\n",
        "from sklearn.model_selection import cross_val_score\n",
        "\n",
        "articles = pd.read_pickle('/content/drive/MyDrive/Data/H&M_project/articles.pkl', compression='gzip')\n",
        "\n",
        "# Adding predictions to the test set\n",
        "train_all['prediction_class'] = y_pred\n",
        "\n",
        "# Getting all prediction classes' article IDs\n",
        "pred_id = {}\n",
        "for pred_class in train_all['prediction_class'].unique():\n",
        "    pred_id[pred_class] = articles.loc[articles['class_label'] == pred_class, 'article_id'].tolist()\n",
        "\n",
        "# Generating recommendations with progress bar\n",
        "recom_ids = []\n",
        "for pred_class in tqdm(train_all['prediction_class'], desc=\"Generating recommendations\"):\n",
        "    sampled_ids = random.sample(pred_id[pred_class], min(len(pred_id[pred_class]), 12))\n",
        "    ids = ' '.join(map(str, sampled_ids))\n",
        "    recom_ids.append(ids)\n",
        "\n",
        "# Adding recommendations to the dataframe\n",
        "train_all['prediction'] = recom_ids\n"
      ],
      "metadata": {
        "colab": {
          "base_uri": "https://localhost:8080/"
        },
        "id": "sTnPpfGdfMPX",
        "outputId": "64f7b41d-dedb-4373-e39f-3c6bfa07ba56"
      },
      "execution_count": 35,
      "outputs": [
        {
          "output_type": "stream",
          "name": "stderr",
          "text": [
            "Generating recommendations: 100%|██████████| 1371980/1371980 [00:11<00:00, 121541.65it/s]\n"
          ]
        }
      ]
    },
    {
      "cell_type": "code",
      "source": [
        "sub_file = train_all[['customer_id', 'prediction']]"
      ],
      "metadata": {
        "id": "rR10xdEYtyR1"
      },
      "execution_count": 36,
      "outputs": []
    },
    {
      "cell_type": "code",
      "source": [
        "sub_file"
      ],
      "metadata": {
        "colab": {
          "base_uri": "https://localhost:8080/",
          "height": 423
        },
        "id": "NgLxcN019ZYg",
        "outputId": "064ea3e7-2ef2-491c-f204-9d2e2cddb33e"
      },
      "execution_count": 37,
      "outputs": [
        {
          "output_type": "execute_result",
          "data": {
            "text/plain": [
              "                                               customer_id  \\\n",
              "0        00000dbacae5abe5e23885899a1fa44253a17956c6d1c3...   \n",
              "1        0000423b00ade91418cceaf3b26c6af3dd342b51fd051e...   \n",
              "2        000058a12d5b43e67d225668fa1f8d618c13dc232df0ca...   \n",
              "3        00005ca1c9ed5f5146b52ac8639a40ca9d57aeff4d1bd2...   \n",
              "4        00006413d8573cd20ed7128e53b7b13819fe5cfc2d801f...   \n",
              "...                                                    ...   \n",
              "1371975  ffffbbf78b6eaac697a8a5dfbfd2bfa8113ee5b403e474...   \n",
              "1371976  ffffcd5046a6143d29a04fb8c424ce494a76e5cdf4fab5...   \n",
              "1371977  ffffcf35913a0bee60e8741cb2b4e78b8a98ee5ff2e6a1...   \n",
              "1371978  ffffd7744cebcf3aca44ae7049d2a94b87074c3d4ffe38...   \n",
              "1371979  ffffd9ac14e89946416d80e791d064701994755c3ab686...   \n",
              "\n",
              "                                                prediction  \n",
              "0        632189004 548110018 573085055 607844002 898596...  \n",
              "1        584915011 662696001 613347001 451380003 543827...  \n",
              "2        839799002 766402022 808237001 584722001 800528...  \n",
              "3        448515019 524825019 868115001 612455006 587677...  \n",
              "4        722970002 772232001 596643001 907472002 687022...  \n",
              "...                                                    ...  \n",
              "1371975  652377012 743932004 863560003 853391003 598604...  \n",
              "1371976  351484012 536139046 714591001 485554009 485537...  \n",
              "1371977  820866011 485689026 706837004 586551001 684272...  \n",
              "1371978  811705004 828919003 837941001 769573001 688430...  \n",
              "1371979  843533002 787481008 710877003 746188001 633250...  \n",
              "\n",
              "[1371980 rows x 2 columns]"
            ],
            "text/html": [
              "\n",
              "  <div id=\"df-8a4d9426-5f4e-4d0c-8f76-0bf7df87653e\">\n",
              "    <div class=\"colab-df-container\">\n",
              "      <div>\n",
              "<style scoped>\n",
              "    .dataframe tbody tr th:only-of-type {\n",
              "        vertical-align: middle;\n",
              "    }\n",
              "\n",
              "    .dataframe tbody tr th {\n",
              "        vertical-align: top;\n",
              "    }\n",
              "\n",
              "    .dataframe thead th {\n",
              "        text-align: right;\n",
              "    }\n",
              "</style>\n",
              "<table border=\"1\" class=\"dataframe\">\n",
              "  <thead>\n",
              "    <tr style=\"text-align: right;\">\n",
              "      <th></th>\n",
              "      <th>customer_id</th>\n",
              "      <th>prediction</th>\n",
              "    </tr>\n",
              "  </thead>\n",
              "  <tbody>\n",
              "    <tr>\n",
              "      <th>0</th>\n",
              "      <td>00000dbacae5abe5e23885899a1fa44253a17956c6d1c3...</td>\n",
              "      <td>632189004 548110018 573085055 607844002 898596...</td>\n",
              "    </tr>\n",
              "    <tr>\n",
              "      <th>1</th>\n",
              "      <td>0000423b00ade91418cceaf3b26c6af3dd342b51fd051e...</td>\n",
              "      <td>584915011 662696001 613347001 451380003 543827...</td>\n",
              "    </tr>\n",
              "    <tr>\n",
              "      <th>2</th>\n",
              "      <td>000058a12d5b43e67d225668fa1f8d618c13dc232df0ca...</td>\n",
              "      <td>839799002 766402022 808237001 584722001 800528...</td>\n",
              "    </tr>\n",
              "    <tr>\n",
              "      <th>3</th>\n",
              "      <td>00005ca1c9ed5f5146b52ac8639a40ca9d57aeff4d1bd2...</td>\n",
              "      <td>448515019 524825019 868115001 612455006 587677...</td>\n",
              "    </tr>\n",
              "    <tr>\n",
              "      <th>4</th>\n",
              "      <td>00006413d8573cd20ed7128e53b7b13819fe5cfc2d801f...</td>\n",
              "      <td>722970002 772232001 596643001 907472002 687022...</td>\n",
              "    </tr>\n",
              "    <tr>\n",
              "      <th>...</th>\n",
              "      <td>...</td>\n",
              "      <td>...</td>\n",
              "    </tr>\n",
              "    <tr>\n",
              "      <th>1371975</th>\n",
              "      <td>ffffbbf78b6eaac697a8a5dfbfd2bfa8113ee5b403e474...</td>\n",
              "      <td>652377012 743932004 863560003 853391003 598604...</td>\n",
              "    </tr>\n",
              "    <tr>\n",
              "      <th>1371976</th>\n",
              "      <td>ffffcd5046a6143d29a04fb8c424ce494a76e5cdf4fab5...</td>\n",
              "      <td>351484012 536139046 714591001 485554009 485537...</td>\n",
              "    </tr>\n",
              "    <tr>\n",
              "      <th>1371977</th>\n",
              "      <td>ffffcf35913a0bee60e8741cb2b4e78b8a98ee5ff2e6a1...</td>\n",
              "      <td>820866011 485689026 706837004 586551001 684272...</td>\n",
              "    </tr>\n",
              "    <tr>\n",
              "      <th>1371978</th>\n",
              "      <td>ffffd7744cebcf3aca44ae7049d2a94b87074c3d4ffe38...</td>\n",
              "      <td>811705004 828919003 837941001 769573001 688430...</td>\n",
              "    </tr>\n",
              "    <tr>\n",
              "      <th>1371979</th>\n",
              "      <td>ffffd9ac14e89946416d80e791d064701994755c3ab686...</td>\n",
              "      <td>843533002 787481008 710877003 746188001 633250...</td>\n",
              "    </tr>\n",
              "  </tbody>\n",
              "</table>\n",
              "<p>1371980 rows × 2 columns</p>\n",
              "</div>\n",
              "      <button class=\"colab-df-convert\" onclick=\"convertToInteractive('df-8a4d9426-5f4e-4d0c-8f76-0bf7df87653e')\"\n",
              "              title=\"Convert this dataframe to an interactive table.\"\n",
              "              style=\"display:none;\">\n",
              "        \n",
              "  <svg xmlns=\"http://www.w3.org/2000/svg\" height=\"24px\"viewBox=\"0 0 24 24\"\n",
              "       width=\"24px\">\n",
              "    <path d=\"M0 0h24v24H0V0z\" fill=\"none\"/>\n",
              "    <path d=\"M18.56 5.44l.94 2.06.94-2.06 2.06-.94-2.06-.94-.94-2.06-.94 2.06-2.06.94zm-11 1L8.5 8.5l.94-2.06 2.06-.94-2.06-.94L8.5 2.5l-.94 2.06-2.06.94zm10 10l.94 2.06.94-2.06 2.06-.94-2.06-.94-.94-2.06-.94 2.06-2.06.94z\"/><path d=\"M17.41 7.96l-1.37-1.37c-.4-.4-.92-.59-1.43-.59-.52 0-1.04.2-1.43.59L10.3 9.45l-7.72 7.72c-.78.78-.78 2.05 0 2.83L4 21.41c.39.39.9.59 1.41.59.51 0 1.02-.2 1.41-.59l7.78-7.78 2.81-2.81c.8-.78.8-2.07 0-2.86zM5.41 20L4 18.59l7.72-7.72 1.47 1.35L5.41 20z\"/>\n",
              "  </svg>\n",
              "      </button>\n",
              "      \n",
              "  <style>\n",
              "    .colab-df-container {\n",
              "      display:flex;\n",
              "      flex-wrap:wrap;\n",
              "      gap: 12px;\n",
              "    }\n",
              "\n",
              "    .colab-df-convert {\n",
              "      background-color: #E8F0FE;\n",
              "      border: none;\n",
              "      border-radius: 50%;\n",
              "      cursor: pointer;\n",
              "      display: none;\n",
              "      fill: #1967D2;\n",
              "      height: 32px;\n",
              "      padding: 0 0 0 0;\n",
              "      width: 32px;\n",
              "    }\n",
              "\n",
              "    .colab-df-convert:hover {\n",
              "      background-color: #E2EBFA;\n",
              "      box-shadow: 0px 1px 2px rgba(60, 64, 67, 0.3), 0px 1px 3px 1px rgba(60, 64, 67, 0.15);\n",
              "      fill: #174EA6;\n",
              "    }\n",
              "\n",
              "    [theme=dark] .colab-df-convert {\n",
              "      background-color: #3B4455;\n",
              "      fill: #D2E3FC;\n",
              "    }\n",
              "\n",
              "    [theme=dark] .colab-df-convert:hover {\n",
              "      background-color: #434B5C;\n",
              "      box-shadow: 0px 1px 3px 1px rgba(0, 0, 0, 0.15);\n",
              "      filter: drop-shadow(0px 1px 2px rgba(0, 0, 0, 0.3));\n",
              "      fill: #FFFFFF;\n",
              "    }\n",
              "  </style>\n",
              "\n",
              "      <script>\n",
              "        const buttonEl =\n",
              "          document.querySelector('#df-8a4d9426-5f4e-4d0c-8f76-0bf7df87653e button.colab-df-convert');\n",
              "        buttonEl.style.display =\n",
              "          google.colab.kernel.accessAllowed ? 'block' : 'none';\n",
              "\n",
              "        async function convertToInteractive(key) {\n",
              "          const element = document.querySelector('#df-8a4d9426-5f4e-4d0c-8f76-0bf7df87653e');\n",
              "          const dataTable =\n",
              "            await google.colab.kernel.invokeFunction('convertToInteractive',\n",
              "                                                     [key], {});\n",
              "          if (!dataTable) return;\n",
              "\n",
              "          const docLinkHtml = 'Like what you see? Visit the ' +\n",
              "            '<a target=\"_blank\" href=https://colab.research.google.com/notebooks/data_table.ipynb>data table notebook</a>'\n",
              "            + ' to learn more about interactive tables.';\n",
              "          element.innerHTML = '';\n",
              "          dataTable['output_type'] = 'display_data';\n",
              "          await google.colab.output.renderOutput(dataTable, element);\n",
              "          const docLink = document.createElement('div');\n",
              "          docLink.innerHTML = docLinkHtml;\n",
              "          element.appendChild(docLink);\n",
              "        }\n",
              "      </script>\n",
              "    </div>\n",
              "  </div>\n",
              "  "
            ]
          },
          "metadata": {},
          "execution_count": 37
        }
      ]
    },
    {
      "cell_type": "code",
      "source": [
        "# saving the submission file\n",
        "sub_file.to_csv('submission.csv', index=False)"
      ],
      "metadata": {
        "id": "bj7ACXcznZbo"
      },
      "execution_count": 38,
      "outputs": []
    }
  ]
}